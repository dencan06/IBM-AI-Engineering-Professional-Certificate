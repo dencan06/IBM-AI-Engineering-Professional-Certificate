{
 "cells": [
  {
   "cell_type": "markdown",
   "metadata": {},
   "source": [
    "# Convolutional Neural Networks with Keras"
   ]
  },
  {
   "cell_type": "code",
   "execution_count": 1,
   "metadata": {
    "collapsed": true
   },
   "outputs": [],
   "source": [
    "import keras\n",
    "from keras.models import Sequential\n",
    "from keras.layers import Dense\n",
    "from tensorflow.keras.utils import to_categorical\n",
    "\n",
    "from keras.layers.convolutional import Conv2D # to add convolutional layers\n",
    "from keras.layers.convolutional import MaxPooling2D # to add pooling layers\n",
    "from keras.layers import Flatten # to flatten data for fully connected layers"
   ]
  },
  {
   "cell_type": "markdown",
   "metadata": {},
   "source": [
    "## Convolutional Layer with One set of convolutional and pooling layers"
   ]
  },
  {
   "cell_type": "code",
   "execution_count": 2,
   "metadata": {
    "collapsed": true
   },
   "outputs": [],
   "source": [
    "# import data\n",
    "from keras.datasets import mnist\n",
    "\n",
    "# load data\n",
    "(X_train, y_train), (X_test, y_test) = mnist.load_data()\n",
    "\n",
    "# reshape to be [samples][pixels][width][height]\n",
    "X_train = X_train.reshape(X_train.shape[0], 28, 28, 1).astype('float32')\n",
    "X_test = X_test.reshape(X_test.shape[0], 28, 28, 1).astype('float32')"
   ]
  },
  {
   "cell_type": "code",
   "execution_count": 3,
   "metadata": {
    "collapsed": true
   },
   "outputs": [],
   "source": [
    "X_train = X_train / 255 # normalize training data\n",
    "X_test = X_test / 255 # normalize test data\n",
    "\n",
    "#convert the target variable into binary categories\n",
    "y_train = to_categorical(y_train)\n",
    "y_test = to_categorical(y_test)\n",
    "\n",
    "num_classes = y_test.shape[1] # number of categories"
   ]
  },
  {
   "cell_type": "code",
   "execution_count": 4,
   "metadata": {
    "collapsed": true
   },
   "outputs": [],
   "source": [
    "def convolutional_model():\n",
    "    \n",
    "    # create model\n",
    "    model = Sequential()\n",
    "    model.add(Conv2D(16, (5, 5), strides=(1, 1), activation='relu', input_shape=(28, 28, 1)))\n",
    "    model.add(MaxPooling2D(pool_size=(2, 2), strides=(2, 2)))\n",
    "    \n",
    "    model.add(Flatten())\n",
    "    model.add(Dense(100, activation='relu'))\n",
    "    model.add(Dense(num_classes, activation='softmax'))\n",
    "    \n",
    "    # compile model\n",
    "    model.compile(optimizer='adam', loss='categorical_crossentropy',  metrics=['accuracy'])\n",
    "    return model"
   ]
  },
  {
   "cell_type": "code",
   "execution_count": 5,
   "metadata": {},
   "outputs": [
    {
     "name": "stdout",
     "output_type": "stream",
     "text": [
      "Epoch 1/10\n",
      "300/300 - 11s - loss: 0.2711 - accuracy: 0.9260 - val_loss: 0.0845 - val_accuracy: 0.9746\n",
      "Epoch 2/10\n",
      "300/300 - 10s - loss: 0.0752 - accuracy: 0.9783 - val_loss: 0.0576 - val_accuracy: 0.9820\n",
      "Epoch 3/10\n",
      "300/300 - 10s - loss: 0.0507 - accuracy: 0.9850 - val_loss: 0.0489 - val_accuracy: 0.9856\n",
      "Epoch 4/10\n",
      "300/300 - 10s - loss: 0.0394 - accuracy: 0.9880 - val_loss: 0.0403 - val_accuracy: 0.9872\n",
      "Epoch 5/10\n",
      "300/300 - 11s - loss: 0.0313 - accuracy: 0.9909 - val_loss: 0.0359 - val_accuracy: 0.9873\n",
      "Epoch 6/10\n",
      "300/300 - 10s - loss: 0.0252 - accuracy: 0.9925 - val_loss: 0.0350 - val_accuracy: 0.9886\n",
      "Epoch 7/10\n",
      "300/300 - 10s - loss: 0.0211 - accuracy: 0.9934 - val_loss: 0.0339 - val_accuracy: 0.9886\n",
      "Epoch 8/10\n",
      "300/300 - 10s - loss: 0.0168 - accuracy: 0.9950 - val_loss: 0.0350 - val_accuracy: 0.9896\n",
      "Epoch 9/10\n",
      "300/300 - 9s - loss: 0.0148 - accuracy: 0.9955 - val_loss: 0.0352 - val_accuracy: 0.9879\n",
      "Epoch 10/10\n",
      "300/300 - 10s - loss: 0.0124 - accuracy: 0.9962 - val_loss: 0.0323 - val_accuracy: 0.9900\n",
      "Accuracy: 0.9900000095367432 \n",
      " Error: 0.9999990463256836\n"
     ]
    }
   ],
   "source": [
    "model = convolutional_model()\n",
    "model.fit(X_train, y_train, validation_data=(X_test, y_test), epochs=10, batch_size=200, verbose=2)\n",
    "scores = model.evaluate(X_test, y_test, verbose=0)\n",
    "print(\"Accuracy: {} \\n Error: {}\".format(scores[1], 100-scores[1]*100))"
   ]
  },
  {
   "cell_type": "markdown",
   "metadata": {},
   "source": [
    "## Convolutional Layer with two sets of convolutional and pooling layers"
   ]
  },
  {
   "cell_type": "code",
   "execution_count": 6,
   "metadata": {
    "collapsed": true
   },
   "outputs": [],
   "source": [
    "def convolutional_model():\n",
    "    \n",
    "    # create model\n",
    "    model = Sequential()\n",
    "    model.add(Conv2D(16, (5, 5), activation='relu', input_shape=(28, 28, 1)))\n",
    "    model.add(MaxPooling2D(pool_size=(2, 2), strides=(2, 2)))\n",
    "    \n",
    "    model.add(Conv2D(8, (2, 2), activation='relu'))\n",
    "    model.add(MaxPooling2D(pool_size=(2, 2), strides=(2, 2)))\n",
    "    \n",
    "    model.add(Flatten())\n",
    "    model.add(Dense(100, activation='relu'))\n",
    "    model.add(Dense(num_classes, activation='softmax'))\n",
    "    \n",
    "    # Compile model\n",
    "    model.compile(optimizer='adam', loss='categorical_crossentropy',  metrics=['accuracy'])\n",
    "    return model"
   ]
  },
  {
   "cell_type": "code",
   "execution_count": 7,
   "metadata": {},
   "outputs": [
    {
     "name": "stdout",
     "output_type": "stream",
     "text": [
      "Epoch 1/10\n",
      "300/300 - 12s - loss: 0.4669 - accuracy: 0.8701 - val_loss: 0.1246 - val_accuracy: 0.9634\n",
      "Epoch 2/10\n",
      "300/300 - 11s - loss: 0.1120 - accuracy: 0.9669 - val_loss: 0.0909 - val_accuracy: 0.9709\n",
      "Epoch 3/10\n",
      "300/300 - 12s - loss: 0.0839 - accuracy: 0.9751 - val_loss: 0.0654 - val_accuracy: 0.9788\n",
      "Epoch 4/10\n",
      "300/300 - 13s - loss: 0.0679 - accuracy: 0.9797 - val_loss: 0.0584 - val_accuracy: 0.9816\n",
      "Epoch 5/10\n",
      "300/300 - 12s - loss: 0.0584 - accuracy: 0.9822 - val_loss: 0.0496 - val_accuracy: 0.9840\n",
      "Epoch 6/10\n",
      "300/300 - 11s - loss: 0.0530 - accuracy: 0.9837 - val_loss: 0.0457 - val_accuracy: 0.9843\n",
      "Epoch 7/10\n",
      "300/300 - 11s - loss: 0.0470 - accuracy: 0.9857 - val_loss: 0.0429 - val_accuracy: 0.9855\n",
      "Epoch 8/10\n",
      "300/300 - 12s - loss: 0.0446 - accuracy: 0.9862 - val_loss: 0.0405 - val_accuracy: 0.9862\n",
      "Epoch 9/10\n",
      "300/300 - 11s - loss: 0.0388 - accuracy: 0.9882 - val_loss: 0.0397 - val_accuracy: 0.9865\n",
      "Epoch 10/10\n",
      "300/300 - 10s - loss: 0.0355 - accuracy: 0.9891 - val_loss: 0.0373 - val_accuracy: 0.9881\n",
      "Accuracy: 0.988099992275238 \n",
      " Error: 1.1900007724761963\n"
     ]
    }
   ],
   "source": [
    "model = convolutional_model()\n",
    "model.fit(X_train, y_train, validation_data=(X_test, y_test), epochs=10, batch_size=200, verbose=2)\n",
    "scores = model.evaluate(X_test, y_test, verbose=0)\n",
    "print(\"Accuracy: {} \\n Error: {}\".format(scores[1], 100-scores[1]*100))"
   ]
  },
  {
   "cell_type": "code",
   "execution_count": null,
   "metadata": {
    "collapsed": true
   },
   "outputs": [],
   "source": []
  },
  {
   "cell_type": "markdown",
   "metadata": {},
   "source": []
  }
 ],
 "metadata": {
  "kernelspec": {
   "display_name": "Python 3",
   "language": "python",
   "name": "python3"
  },
  "language_info": {
   "codemirror_mode": {
    "name": "ipython",
    "version": 3
   },
   "file_extension": ".py",
   "mimetype": "text/x-python",
   "name": "python",
   "nbconvert_exporter": "python",
   "pygments_lexer": "ipython3",
   "version": "3.6.2"
  }
 },
 "nbformat": 4,
 "nbformat_minor": 2
}
