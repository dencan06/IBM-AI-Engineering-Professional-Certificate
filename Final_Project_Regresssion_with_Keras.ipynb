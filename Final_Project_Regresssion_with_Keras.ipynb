{
 "cells": [
  {
   "cell_type": "markdown",
   "metadata": {},
   "source": [
    "## Regression Model with Keras ##"
   ]
  },
  {
   "cell_type": "code",
   "execution_count": 32,
   "metadata": {
    "collapsed": true
   },
   "outputs": [],
   "source": [
    "import pandas as pd\n",
    "import numpy as np"
   ]
  },
  {
   "cell_type": "code",
   "execution_count": null,
   "metadata": {
    "collapsed": true
   },
   "outputs": [],
   "source": []
  },
  {
   "cell_type": "code",
   "execution_count": 33,
   "metadata": {},
   "outputs": [
    {
     "data": {
      "text/html": [
       "<div>\n",
       "<style scoped>\n",
       "    .dataframe tbody tr th:only-of-type {\n",
       "        vertical-align: middle;\n",
       "    }\n",
       "\n",
       "    .dataframe tbody tr th {\n",
       "        vertical-align: top;\n",
       "    }\n",
       "\n",
       "    .dataframe thead th {\n",
       "        text-align: right;\n",
       "    }\n",
       "</style>\n",
       "<table border=\"1\" class=\"dataframe\">\n",
       "  <thead>\n",
       "    <tr style=\"text-align: right;\">\n",
       "      <th></th>\n",
       "      <th>Cement</th>\n",
       "      <th>Blast Furnace Slag</th>\n",
       "      <th>Fly Ash</th>\n",
       "      <th>Water</th>\n",
       "      <th>Superplasticizer</th>\n",
       "      <th>Coarse Aggregate</th>\n",
       "      <th>Fine Aggregate</th>\n",
       "      <th>Age</th>\n",
       "      <th>Strength</th>\n",
       "    </tr>\n",
       "  </thead>\n",
       "  <tbody>\n",
       "    <tr>\n",
       "      <th>0</th>\n",
       "      <td>540.0</td>\n",
       "      <td>0.0</td>\n",
       "      <td>0.0</td>\n",
       "      <td>162.0</td>\n",
       "      <td>2.5</td>\n",
       "      <td>1040.0</td>\n",
       "      <td>676.0</td>\n",
       "      <td>28</td>\n",
       "      <td>79.99</td>\n",
       "    </tr>\n",
       "    <tr>\n",
       "      <th>1</th>\n",
       "      <td>540.0</td>\n",
       "      <td>0.0</td>\n",
       "      <td>0.0</td>\n",
       "      <td>162.0</td>\n",
       "      <td>2.5</td>\n",
       "      <td>1055.0</td>\n",
       "      <td>676.0</td>\n",
       "      <td>28</td>\n",
       "      <td>61.89</td>\n",
       "    </tr>\n",
       "    <tr>\n",
       "      <th>2</th>\n",
       "      <td>332.5</td>\n",
       "      <td>142.5</td>\n",
       "      <td>0.0</td>\n",
       "      <td>228.0</td>\n",
       "      <td>0.0</td>\n",
       "      <td>932.0</td>\n",
       "      <td>594.0</td>\n",
       "      <td>270</td>\n",
       "      <td>40.27</td>\n",
       "    </tr>\n",
       "    <tr>\n",
       "      <th>3</th>\n",
       "      <td>332.5</td>\n",
       "      <td>142.5</td>\n",
       "      <td>0.0</td>\n",
       "      <td>228.0</td>\n",
       "      <td>0.0</td>\n",
       "      <td>932.0</td>\n",
       "      <td>594.0</td>\n",
       "      <td>365</td>\n",
       "      <td>41.05</td>\n",
       "    </tr>\n",
       "    <tr>\n",
       "      <th>4</th>\n",
       "      <td>198.6</td>\n",
       "      <td>132.4</td>\n",
       "      <td>0.0</td>\n",
       "      <td>192.0</td>\n",
       "      <td>0.0</td>\n",
       "      <td>978.4</td>\n",
       "      <td>825.5</td>\n",
       "      <td>360</td>\n",
       "      <td>44.30</td>\n",
       "    </tr>\n",
       "  </tbody>\n",
       "</table>\n",
       "</div>"
      ],
      "text/plain": [
       "   Cement  Blast Furnace Slag  Fly Ash  Water  Superplasticizer  \\\n",
       "0   540.0                 0.0      0.0  162.0               2.5   \n",
       "1   540.0                 0.0      0.0  162.0               2.5   \n",
       "2   332.5               142.5      0.0  228.0               0.0   \n",
       "3   332.5               142.5      0.0  228.0               0.0   \n",
       "4   198.6               132.4      0.0  192.0               0.0   \n",
       "\n",
       "   Coarse Aggregate  Fine Aggregate  Age  Strength  \n",
       "0            1040.0           676.0   28     79.99  \n",
       "1            1055.0           676.0   28     61.89  \n",
       "2             932.0           594.0  270     40.27  \n",
       "3             932.0           594.0  365     41.05  \n",
       "4             978.4           825.5  360     44.30  "
      ]
     },
     "execution_count": 33,
     "metadata": {},
     "output_type": "execute_result"
    }
   ],
   "source": [
    "concrete_data = pd.read_csv('https://s3-api.us-geo.objectstorage.softlayer.net/cf-courses-data/CognitiveClass/DL0101EN/labs/data/concrete_data.csv')\n",
    "concrete_data.head()"
   ]
  },
  {
   "cell_type": "code",
   "execution_count": 34,
   "metadata": {},
   "outputs": [
    {
     "data": {
      "text/plain": [
       "(1030, 9)"
      ]
     },
     "execution_count": 34,
     "metadata": {},
     "output_type": "execute_result"
    }
   ],
   "source": [
    "concrete_data.shape"
   ]
  },
  {
   "cell_type": "code",
   "execution_count": 35,
   "metadata": {},
   "outputs": [
    {
     "data": {
      "text/html": [
       "<div>\n",
       "<style scoped>\n",
       "    .dataframe tbody tr th:only-of-type {\n",
       "        vertical-align: middle;\n",
       "    }\n",
       "\n",
       "    .dataframe tbody tr th {\n",
       "        vertical-align: top;\n",
       "    }\n",
       "\n",
       "    .dataframe thead th {\n",
       "        text-align: right;\n",
       "    }\n",
       "</style>\n",
       "<table border=\"1\" class=\"dataframe\">\n",
       "  <thead>\n",
       "    <tr style=\"text-align: right;\">\n",
       "      <th></th>\n",
       "      <th>Cement</th>\n",
       "      <th>Blast Furnace Slag</th>\n",
       "      <th>Fly Ash</th>\n",
       "      <th>Water</th>\n",
       "      <th>Superplasticizer</th>\n",
       "      <th>Coarse Aggregate</th>\n",
       "      <th>Fine Aggregate</th>\n",
       "      <th>Age</th>\n",
       "      <th>Strength</th>\n",
       "    </tr>\n",
       "  </thead>\n",
       "  <tbody>\n",
       "    <tr>\n",
       "      <th>count</th>\n",
       "      <td>1030.000000</td>\n",
       "      <td>1030.000000</td>\n",
       "      <td>1030.000000</td>\n",
       "      <td>1030.000000</td>\n",
       "      <td>1030.000000</td>\n",
       "      <td>1030.000000</td>\n",
       "      <td>1030.000000</td>\n",
       "      <td>1030.000000</td>\n",
       "      <td>1030.000000</td>\n",
       "    </tr>\n",
       "    <tr>\n",
       "      <th>mean</th>\n",
       "      <td>281.167864</td>\n",
       "      <td>73.895825</td>\n",
       "      <td>54.188350</td>\n",
       "      <td>181.567282</td>\n",
       "      <td>6.204660</td>\n",
       "      <td>972.918932</td>\n",
       "      <td>773.580485</td>\n",
       "      <td>45.662136</td>\n",
       "      <td>35.817961</td>\n",
       "    </tr>\n",
       "    <tr>\n",
       "      <th>std</th>\n",
       "      <td>104.506364</td>\n",
       "      <td>86.279342</td>\n",
       "      <td>63.997004</td>\n",
       "      <td>21.354219</td>\n",
       "      <td>5.973841</td>\n",
       "      <td>77.753954</td>\n",
       "      <td>80.175980</td>\n",
       "      <td>63.169912</td>\n",
       "      <td>16.705742</td>\n",
       "    </tr>\n",
       "    <tr>\n",
       "      <th>min</th>\n",
       "      <td>102.000000</td>\n",
       "      <td>0.000000</td>\n",
       "      <td>0.000000</td>\n",
       "      <td>121.800000</td>\n",
       "      <td>0.000000</td>\n",
       "      <td>801.000000</td>\n",
       "      <td>594.000000</td>\n",
       "      <td>1.000000</td>\n",
       "      <td>2.330000</td>\n",
       "    </tr>\n",
       "    <tr>\n",
       "      <th>25%</th>\n",
       "      <td>192.375000</td>\n",
       "      <td>0.000000</td>\n",
       "      <td>0.000000</td>\n",
       "      <td>164.900000</td>\n",
       "      <td>0.000000</td>\n",
       "      <td>932.000000</td>\n",
       "      <td>730.950000</td>\n",
       "      <td>7.000000</td>\n",
       "      <td>23.710000</td>\n",
       "    </tr>\n",
       "    <tr>\n",
       "      <th>50%</th>\n",
       "      <td>272.900000</td>\n",
       "      <td>22.000000</td>\n",
       "      <td>0.000000</td>\n",
       "      <td>185.000000</td>\n",
       "      <td>6.400000</td>\n",
       "      <td>968.000000</td>\n",
       "      <td>779.500000</td>\n",
       "      <td>28.000000</td>\n",
       "      <td>34.445000</td>\n",
       "    </tr>\n",
       "    <tr>\n",
       "      <th>75%</th>\n",
       "      <td>350.000000</td>\n",
       "      <td>142.950000</td>\n",
       "      <td>118.300000</td>\n",
       "      <td>192.000000</td>\n",
       "      <td>10.200000</td>\n",
       "      <td>1029.400000</td>\n",
       "      <td>824.000000</td>\n",
       "      <td>56.000000</td>\n",
       "      <td>46.135000</td>\n",
       "    </tr>\n",
       "    <tr>\n",
       "      <th>max</th>\n",
       "      <td>540.000000</td>\n",
       "      <td>359.400000</td>\n",
       "      <td>200.100000</td>\n",
       "      <td>247.000000</td>\n",
       "      <td>32.200000</td>\n",
       "      <td>1145.000000</td>\n",
       "      <td>992.600000</td>\n",
       "      <td>365.000000</td>\n",
       "      <td>82.600000</td>\n",
       "    </tr>\n",
       "  </tbody>\n",
       "</table>\n",
       "</div>"
      ],
      "text/plain": [
       "            Cement  Blast Furnace Slag      Fly Ash        Water  \\\n",
       "count  1030.000000         1030.000000  1030.000000  1030.000000   \n",
       "mean    281.167864           73.895825    54.188350   181.567282   \n",
       "std     104.506364           86.279342    63.997004    21.354219   \n",
       "min     102.000000            0.000000     0.000000   121.800000   \n",
       "25%     192.375000            0.000000     0.000000   164.900000   \n",
       "50%     272.900000           22.000000     0.000000   185.000000   \n",
       "75%     350.000000          142.950000   118.300000   192.000000   \n",
       "max     540.000000          359.400000   200.100000   247.000000   \n",
       "\n",
       "       Superplasticizer  Coarse Aggregate  Fine Aggregate          Age  \\\n",
       "count       1030.000000       1030.000000     1030.000000  1030.000000   \n",
       "mean           6.204660        972.918932      773.580485    45.662136   \n",
       "std            5.973841         77.753954       80.175980    63.169912   \n",
       "min            0.000000        801.000000      594.000000     1.000000   \n",
       "25%            0.000000        932.000000      730.950000     7.000000   \n",
       "50%            6.400000        968.000000      779.500000    28.000000   \n",
       "75%           10.200000       1029.400000      824.000000    56.000000   \n",
       "max           32.200000       1145.000000      992.600000   365.000000   \n",
       "\n",
       "          Strength  \n",
       "count  1030.000000  \n",
       "mean     35.817961  \n",
       "std      16.705742  \n",
       "min       2.330000  \n",
       "25%      23.710000  \n",
       "50%      34.445000  \n",
       "75%      46.135000  \n",
       "max      82.600000  "
      ]
     },
     "execution_count": 35,
     "metadata": {},
     "output_type": "execute_result"
    }
   ],
   "source": [
    "concrete_data.describe()"
   ]
  },
  {
   "cell_type": "code",
   "execution_count": 37,
   "metadata": {},
   "outputs": [
    {
     "data": {
      "text/plain": [
       "Cement                0\n",
       "Blast Furnace Slag    0\n",
       "Fly Ash               0\n",
       "Water                 0\n",
       "Superplasticizer      0\n",
       "Coarse Aggregate      0\n",
       "Fine Aggregate        0\n",
       "Age                   0\n",
       "Strength              0\n",
       "dtype: int64"
      ]
     },
     "execution_count": 37,
     "metadata": {},
     "output_type": "execute_result"
    }
   ],
   "source": [
    "concrete_data.isnull().sum()"
   ]
  },
  {
   "cell_type": "markdown",
   "metadata": {},
   "source": [
    "## Part A ##"
   ]
  },
  {
   "cell_type": "code",
   "execution_count": 41,
   "metadata": {},
   "outputs": [],
   "source": [
    "import keras\n",
    "from keras.models import Sequential\n",
    "from keras.layers import Dense\n",
    "\n",
    "# define regression model\n",
    "def regression_model():\n",
    "    # create model\n",
    "    model = Sequential()\n",
    "    model.add(Dense(10, activation='relu', input_shape=(n_cols,)))\n",
    "    model.add(Dense(10, activation='relu'))\n",
    "    model.add(Dense(1))\n",
    "    \n",
    "    # compile model\n",
    "    model.compile(optimizer='adam', loss='mean_squared_error')\n",
    "    return model"
   ]
  },
  {
   "cell_type": "code",
   "execution_count": 42,
   "metadata": {
    "collapsed": true
   },
   "outputs": [],
   "source": [
    "from sklearn.model_selection import train_test_split\n",
    "# splitting data\n",
    "concrete_data_columns = concrete_data.columns\n",
    "\n",
    "predictors = concrete_data[concrete_data_columns[concrete_data_columns != 'Strength']] # all columns except Strength\n",
    "target = concrete_data['Strength'] # Strength column\n",
    "\n",
    "# train_test_split\n",
    "X_train, X_test, y_train, y_test = train_test_split(predictors, target, test_size = 0.2)"
   ]
  },
  {
   "cell_type": "code",
   "execution_count": 43,
   "metadata": {},
   "outputs": [
    {
     "data": {
      "text/html": [
       "<div>\n",
       "<style scoped>\n",
       "    .dataframe tbody tr th:only-of-type {\n",
       "        vertical-align: middle;\n",
       "    }\n",
       "\n",
       "    .dataframe tbody tr th {\n",
       "        vertical-align: top;\n",
       "    }\n",
       "\n",
       "    .dataframe thead th {\n",
       "        text-align: right;\n",
       "    }\n",
       "</style>\n",
       "<table border=\"1\" class=\"dataframe\">\n",
       "  <thead>\n",
       "    <tr style=\"text-align: right;\">\n",
       "      <th></th>\n",
       "      <th>Cement</th>\n",
       "      <th>Blast Furnace Slag</th>\n",
       "      <th>Fly Ash</th>\n",
       "      <th>Water</th>\n",
       "      <th>Superplasticizer</th>\n",
       "      <th>Coarse Aggregate</th>\n",
       "      <th>Fine Aggregate</th>\n",
       "      <th>Age</th>\n",
       "    </tr>\n",
       "  </thead>\n",
       "  <tbody>\n",
       "    <tr>\n",
       "      <th>0</th>\n",
       "      <td>540.0</td>\n",
       "      <td>0.0</td>\n",
       "      <td>0.0</td>\n",
       "      <td>162.0</td>\n",
       "      <td>2.5</td>\n",
       "      <td>1040.0</td>\n",
       "      <td>676.0</td>\n",
       "      <td>28</td>\n",
       "    </tr>\n",
       "    <tr>\n",
       "      <th>1</th>\n",
       "      <td>540.0</td>\n",
       "      <td>0.0</td>\n",
       "      <td>0.0</td>\n",
       "      <td>162.0</td>\n",
       "      <td>2.5</td>\n",
       "      <td>1055.0</td>\n",
       "      <td>676.0</td>\n",
       "      <td>28</td>\n",
       "    </tr>\n",
       "    <tr>\n",
       "      <th>2</th>\n",
       "      <td>332.5</td>\n",
       "      <td>142.5</td>\n",
       "      <td>0.0</td>\n",
       "      <td>228.0</td>\n",
       "      <td>0.0</td>\n",
       "      <td>932.0</td>\n",
       "      <td>594.0</td>\n",
       "      <td>270</td>\n",
       "    </tr>\n",
       "    <tr>\n",
       "      <th>3</th>\n",
       "      <td>332.5</td>\n",
       "      <td>142.5</td>\n",
       "      <td>0.0</td>\n",
       "      <td>228.0</td>\n",
       "      <td>0.0</td>\n",
       "      <td>932.0</td>\n",
       "      <td>594.0</td>\n",
       "      <td>365</td>\n",
       "    </tr>\n",
       "    <tr>\n",
       "      <th>4</th>\n",
       "      <td>198.6</td>\n",
       "      <td>132.4</td>\n",
       "      <td>0.0</td>\n",
       "      <td>192.0</td>\n",
       "      <td>0.0</td>\n",
       "      <td>978.4</td>\n",
       "      <td>825.5</td>\n",
       "      <td>360</td>\n",
       "    </tr>\n",
       "  </tbody>\n",
       "</table>\n",
       "</div>"
      ],
      "text/plain": [
       "   Cement  Blast Furnace Slag  Fly Ash  Water  Superplasticizer  \\\n",
       "0   540.0                 0.0      0.0  162.0               2.5   \n",
       "1   540.0                 0.0      0.0  162.0               2.5   \n",
       "2   332.5               142.5      0.0  228.0               0.0   \n",
       "3   332.5               142.5      0.0  228.0               0.0   \n",
       "4   198.6               132.4      0.0  192.0               0.0   \n",
       "\n",
       "   Coarse Aggregate  Fine Aggregate  Age  \n",
       "0            1040.0           676.0   28  \n",
       "1            1055.0           676.0   28  \n",
       "2             932.0           594.0  270  \n",
       "3             932.0           594.0  365  \n",
       "4             978.4           825.5  360  "
      ]
     },
     "execution_count": 43,
     "metadata": {},
     "output_type": "execute_result"
    }
   ],
   "source": [
    "predictors.head()"
   ]
  },
  {
   "cell_type": "code",
   "execution_count": 44,
   "metadata": {},
   "outputs": [
    {
     "data": {
      "text/plain": [
       "0    79.99\n",
       "1    61.89\n",
       "2    40.27\n",
       "3    41.05\n",
       "4    44.30\n",
       "Name: Strength, dtype: float64"
      ]
     },
     "execution_count": 44,
     "metadata": {},
     "output_type": "execute_result"
    }
   ],
   "source": [
    "target.head()"
   ]
  },
  {
   "cell_type": "code",
   "execution_count": 45,
   "metadata": {
    "collapsed": true
   },
   "outputs": [],
   "source": [
    "n_cols = predictors.shape[1] # number of predictors"
   ]
  },
  {
   "cell_type": "code",
   "execution_count": 46,
   "metadata": {},
   "outputs": [
    {
     "name": "stdout",
     "output_type": "stream",
     "text": [
      "[80.62578393211501, 69.98307318950452, 65.00932415756304, 56.106644066270285, 57.222245200262186, 54.5619206950602, 54.307342646987784, 53.171492954489594, 55.54776614640659, 53.15869655905529, 68.36793001397497, 52.41265388956171, 61.33745950162794, 60.54570533748734, 52.84529935048334, 52.91505349867478, 52.82973713484343, 55.42346795954943, 53.93857527369763, 59.291451550053466, 57.88077753647722, 56.69021993530148, 53.25450133305301, 51.37825313714675, 54.80743977018341, 54.2454264575059, 56.31923700997158, 51.321172057694106, 49.206507423637305, 51.13137881437535, 47.33408311211343, 52.299300939784004, 48.90663855923677, 49.285084839463416, 50.02804995414567, 45.65544484391284, 47.20103416508569, 47.75270269793968, 46.86780391232471, 44.763682245587965, 50.51189697223857, 43.45955951105647, 45.16226337830766, 44.219398594411985, 44.26373518577449, 46.153635791910915, 50.48137634116056, 44.91436847240441, 43.94023758103334, 50.93356777076487]\n"
     ]
    }
   ],
   "source": [
    "# Buidling, Fitting and Evaluating model\n",
    "from sklearn.metrics import mean_squared_error\n",
    "MSEs = []\n",
    "\n",
    "# build the model\n",
    "model = regression_model()\n",
    "\n",
    "for index in range(50) :\n",
    "    \n",
    "    # fit the model\n",
    "    res = model.fit(X_train, y_train, epochs=50, verbose=0)\n",
    "    \n",
    "    # predicting and calculating MSE\n",
    "    y_pred = model.predict(X_test)\n",
    "    MSEs.append(mean_squared_error(y_test, y_pred))\n",
    "\n",
    "print(MSEs)    "
   ]
  },
  {
   "cell_type": "code",
   "execution_count": 47,
   "metadata": {},
   "outputs": [
    {
     "name": "stdout",
     "output_type": "stream",
     "text": [
      "Mean : 53.00\n",
      "Standard Deviation : 7.18\n"
     ]
    }
   ],
   "source": [
    "import statistics\n",
    "\n",
    "mean_mse = statistics.mean(MSEs)\n",
    "stdev = statistics.stdev(MSEs)\n",
    "\n",
    "print('Mean : %.2f' % mean_mse)\n",
    "print('Standard Deviation : %.2f' % stdev)"
   ]
  },
  {
   "cell_type": "markdown",
   "metadata": {},
   "source": [
    "## Part B ##\n",
    "### Part A with Normalized Data ###"
   ]
  },
  {
   "cell_type": "code",
   "execution_count": 48,
   "metadata": {},
   "outputs": [
    {
     "name": "stdout",
     "output_type": "stream",
     "text": [
      "[133.39482304467032, 107.17077913705197, 89.39437502035332, 79.70916543089967, 69.51829944155826, 53.14421621289056, 51.71692451057679, 49.10318435862816, 48.13169626788781, 45.7656657058075, 43.44749936652944, 42.2611796255986, 41.44826836079362, 41.53877229867046, 40.82921999691847, 41.545457106367074, 41.048562222969885, 40.80565030766517, 41.179131159138, 41.27526796435869, 41.63584856857713, 41.70073945388198, 42.77217854888467, 42.1617749195181, 42.09029449442689, 42.953174946588454, 42.8550282400053, 42.69352437649592, 43.682307166607416, 44.01617171741051, 44.09889025132808, 44.15735196396114, 45.33638994937981, 44.946846639131955, 46.458688861744704, 45.773804300922166, 45.30714619041577, 46.131797354790066, 46.052453436521546, 45.85738735980525, 45.95335875115382, 46.36265800040747, 46.78116646814492, 46.86381215130831, 46.72698597874491, 46.96399693676569, 46.97699856210743, 47.6244103172421, 48.111206201048404, 47.988975462274695]\n",
      "CPU times: user 1min 4s, sys: 12.7 s, total: 1min 16s\n",
      "Wall time: 45.1 s\n"
     ]
    }
   ],
   "source": [
    "%%time\n",
    "# Normalizing data\n",
    "predictors_norm = (predictors - predictors.mean()) / predictors.std()\n",
    "n_cols = predictors_norm.shape[1] # number of predictors\n",
    "\n",
    "# train_test_split\n",
    "X_train, X_test, y_train, y_test = train_test_split(predictors_norm, target, test_size = 0.2)\n",
    "\n",
    "# Buidling, Fitting and Evaluating model\n",
    "from sklearn.metrics import mean_squared_error\n",
    "MSEsB = []\n",
    "\n",
    "# build the model\n",
    "modelB = regression_model()\n",
    "\n",
    "for index in range(50) :\n",
    "    \n",
    "    # fit the model\n",
    "    modelB.fit(X_train, y_train, epochs=50, verbose=0)\n",
    "    \n",
    "    # predicting and calculating MSE\n",
    "    y_pred = modelB.predict(X_test)\n",
    "    MSEsB.append(mean_squared_error(y_test, y_pred))\n",
    "\n",
    "    \n",
    "print(MSEsB)"
   ]
  },
  {
   "cell_type": "code",
   "execution_count": 49,
   "metadata": {},
   "outputs": [
    {
     "name": "stdout",
     "output_type": "stream",
     "text": [
      "Mean : 49.87\n",
      "Standard Deviation : 17.29\n"
     ]
    }
   ],
   "source": [
    "mean_mseB = statistics.mean(MSEsB)\n",
    "stdevB = statistics.stdev(MSEsB)\n",
    "\n",
    "print('Mean : %.2f' % mean_mseB)\n",
    "print('Standard Deviation : %.2f' % stdevB)"
   ]
  },
  {
   "cell_type": "code",
   "execution_count": 50,
   "metadata": {},
   "outputs": [
    {
     "name": "stdout",
     "output_type": "stream",
     "text": [
      "Difference of means of Model A and Model B is {} 3.130137925854875\n"
     ]
    }
   ],
   "source": [
    "print('Difference of means of Model A and Model B is {}', abs(mean_mseB - mean_mse))"
   ]
  },
  {
   "cell_type": "markdown",
   "metadata": {},
   "source": [
    "## Part C ##\n",
    "### Part B with 100 epochs ###"
   ]
  },
  {
   "cell_type": "code",
   "execution_count": 51,
   "metadata": {},
   "outputs": [
    {
     "name": "stdout",
     "output_type": "stream",
     "text": [
      "[106.70599883518507, 53.77097549450085, 41.25188947147479, 38.66621216560799, 37.36500284066783, 36.167176378723546, 34.916767251342506, 33.54850504366034, 33.24142771892517, 33.28478671664964, 33.048010734918144, 32.95712539187893, 32.43057129044716, 31.7844140854845, 32.0195107703705, 32.29777823591699, 31.91197973627221, 31.639911951333758, 31.37196031271582, 30.748750335220137, 30.804013820736287, 30.866252114836588, 30.803115795884263, 30.57786070575565, 30.473133683523724, 30.508463378660938, 30.65633215890033, 30.55601690257086, 30.97201822733585, 30.513874734994168, 30.786426586518562, 30.536118969152724, 31.020129712631572, 30.329879137833416, 31.027658435439424, 30.63808767979396, 30.47605969877012, 30.702341399924247, 30.864511281964788, 30.83813947515299, 30.79733364200145, 30.78960544846827, 30.88818164240613, 30.765306503845466, 30.894337782698425, 30.786590657690915, 30.8768981762117, 30.5881178470105, 31.043592433231186, 30.87905916358743]\n",
      "CPU times: user 1min 56s, sys: 23.3 s, total: 2min 20s\n",
      "Wall time: 1min 18s\n"
     ]
    }
   ],
   "source": [
    "%%time\n",
    "# Normalizing data\n",
    "predictors_norm = (predictors - predictors.mean()) / predictors.std()\n",
    "n_cols = predictors_norm.shape[1] # number of predictors\n",
    "\n",
    "# train_test_split\n",
    "X_train, X_test, y_train, y_test = train_test_split(predictors_norm, target, test_size = 0.2)\n",
    "\n",
    "# Buidling, Fitting and Evaluating model\n",
    "from sklearn.metrics import mean_squared_error\n",
    "MSEsC = []\n",
    "\n",
    "# build the model\n",
    "modelC = regression_model()\n",
    "\n",
    "for index in range(50) :\n",
    "    \n",
    "    # fit the model\n",
    "    modelC.fit(X_train, y_train, epochs=100, verbose=0)\n",
    "    \n",
    "    # predicting and calculating MSE\n",
    "    y_pred = modelC.predict(X_test)\n",
    "    MSEsC.append(mean_squared_error(y_test, y_pred))\n",
    "\n",
    "    \n",
    "print(MSEsC)"
   ]
  },
  {
   "cell_type": "code",
   "execution_count": 52,
   "metadata": {},
   "outputs": [
    {
     "name": "stdout",
     "output_type": "stream",
     "text": [
      "Mean : 33.83\n",
      "Standard Deviation : 11.19\n",
      "Difference of means of Model B and Model C is {} 16.04150586300201\n"
     ]
    }
   ],
   "source": [
    "mean_mseC = statistics.mean(MSEsC)\n",
    "stdevC = statistics.stdev(MSEsC)\n",
    "\n",
    "print('Mean : %.2f' % mean_mseC)\n",
    "print('Standard Deviation : %.2f' % stdevC)\n",
    "\n",
    "# Difference of means of A and B model\n",
    "print('Difference of means of Model B and Model C is {}', abs(mean_mseB - mean_mseC))"
   ]
  },
  {
   "cell_type": "markdown",
   "metadata": {},
   "source": [
    "## Part D ##\n",
    "### Part B with 3 hidden layers, each with 10 nodes, and ReLU "
   ]
  },
  {
   "cell_type": "code",
   "execution_count": 53,
   "metadata": {
    "collapsed": true
   },
   "outputs": [],
   "source": [
    "def regression_model_D():\n",
    "    # create model\n",
    "    modelD = Sequential()\n",
    "    modelD.add(Dense(10, activation='relu', input_shape=(n_cols,)))\n",
    "    modelD.add(Dense(10, activation='relu')) # HL1\n",
    "    modelD.add(Dense(10, activation='relu')) # HL2\n",
    "    modelD.add(Dense(10, activation='relu')) # HL3\n",
    "    modelD.add(Dense(1))\n",
    "    \n",
    "    # compile model\n",
    "    modelD.compile(optimizer='adam', loss='mean_squared_error')\n",
    "    return modelD"
   ]
  },
  {
   "cell_type": "code",
   "execution_count": 54,
   "metadata": {},
   "outputs": [
    {
     "name": "stdout",
     "output_type": "stream",
     "text": [
      "[114.47527017965726, 54.64519793517269, 41.405522467991915, 38.712967651296665, 38.96488264467859, 37.266195210744634, 37.36076172958264, 36.62358304887046, 37.84816086986525, 38.486107102219336, 38.39112040953204, 37.63065884189462, 39.38328585323777, 37.113148305083605, 37.87331333963708, 37.07482678191957, 36.91041317848004, 37.888068282522816, 39.13534627564476, 37.99960184500501, 38.312185246517664, 36.3620760252675, 36.85584573138186, 35.97553103214557, 38.04728147257777, 37.3352971187414, 39.69331950016797, 36.86299188621685, 37.502101297299255, 37.803642114010486, 36.3893121924462, 36.5118832950451, 39.03203019315099, 39.06088267731567, 38.013633594076225, 38.12049489158376, 36.54576793071513, 38.40273859670216, 36.65613168903326, 36.76913001871425, 37.29377228543342, 36.76247691673586, 36.33606177131504, 36.556668445933454, 36.31350149964459, 36.525581446891046, 36.674516675705846, 35.79164038496236, 37.02217352525663, 35.99719323419508]\n",
      "CPU times: user 1min 26s, sys: 22.7 s, total: 1min 49s\n",
      "Wall time: 57.4 s\n"
     ]
    }
   ],
   "source": [
    "%%time\n",
    "# Normalizing data\n",
    "predictors_norm = (predictors - predictors.mean()) / predictors.std()\n",
    "n_cols = predictors_norm.shape[1] # number of predictors\n",
    "\n",
    "# train_test_split\n",
    "X_train, X_test, y_train, y_test = train_test_split(predictors_norm, target, test_size = 0.2)\n",
    "\n",
    "# Buidling, Fitting and Evaluating model\n",
    "from sklearn.metrics import mean_squared_error\n",
    "MSEsD = []\n",
    "\n",
    "# build the model\n",
    "modelD = regression_model_D()\n",
    "\n",
    "for index in range(50) :\n",
    "    \n",
    "    # fit the model\n",
    "    modelD.fit(X_train, y_train, epochs=50, verbose=0)\n",
    "    \n",
    "    # predicting and calculating MSE\n",
    "    y_pred = modelD.predict(X_test)\n",
    "    MSEsD.append(mean_squared_error(y_test, y_pred))\n",
    "\n",
    "    \n",
    "print(MSEsD)"
   ]
  },
  {
   "cell_type": "code",
   "execution_count": 55,
   "metadata": {},
   "outputs": [
    {
     "name": "stdout",
     "output_type": "stream",
     "text": [
      "Mean : 39.41\n",
      "Standard Deviation : 11.15\n",
      "Difference of means of Model B and Model D is {} 10.454984209334185\n"
     ]
    }
   ],
   "source": [
    "mean_mseD = statistics.mean(MSEsD)\n",
    "stdevD = statistics.stdev(MSEsD)\n",
    "\n",
    "print('Mean : %.2f' % mean_mseD)\n",
    "print('Standard Deviation : %.2f' % stdevD)\n",
    "\n",
    "# Difference of means of B and D model\n",
    "print('Difference of means of Model B and Model D is {}', abs(mean_mseB - mean_mseD))\n"
   ]
  },
  {
   "cell_type": "code",
   "execution_count": null,
   "metadata": {
    "collapsed": true
   },
   "outputs": [],
   "source": []
  }
 ],
 "metadata": {
  "kernelspec": {
   "display_name": "Python 3",
   "language": "python",
   "name": "python3"
  },
  "language_info": {
   "codemirror_mode": {
    "name": "ipython",
    "version": 3
   },
   "file_extension": ".py",
   "mimetype": "text/x-python",
   "name": "python",
   "nbconvert_exporter": "python",
   "pygments_lexer": "ipython3",
   "version": "3.6.2"
  }
 },
 "nbformat": 4,
 "nbformat_minor": 2
}
